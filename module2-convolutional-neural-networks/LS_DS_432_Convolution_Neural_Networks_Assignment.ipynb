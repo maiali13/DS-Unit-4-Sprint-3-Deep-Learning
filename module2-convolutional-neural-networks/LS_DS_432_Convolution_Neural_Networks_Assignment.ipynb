{
  "nbformat": 4,
  "nbformat_minor": 0,
  "metadata": {
    "colab": {
      "name": "LS_DS_432_Convolution_Neural_Networks_Assignment.ipynb",
      "provenance": []
    },
    "kernelspec": {
      "display_name": "U4NN (Python3)",
      "language": "python",
      "name": "u4nn"
    },
    "language_info": {
      "codemirror_mode": {
        "name": "ipython",
        "version": 3
      },
      "file_extension": ".py",
      "mimetype": "text/x-python",
      "name": "python",
      "nbconvert_exporter": "python",
      "pygments_lexer": "ipython3",
      "version": "3.7.0"
    },
    "nteract": {
      "version": "0.23.1"
    },
    "accelerator": "GPU"
  },
  "cells": [
    {
      "cell_type": "markdown",
      "metadata": {
        "colab_type": "text",
        "id": "e5-V09ze9m_a"
      },
      "source": [
        "<img align=\"left\" src=\"https://lever-client-logos.s3.amazonaws.com/864372b1-534c-480e-acd5-9711f850815c-1524247202159.png\" width=200>\n",
        "<br></br>\n",
        "<br></br>\n",
        "\n",
        "## *Data Science Unit 4 Sprint 3 Assignment 2*\n",
        "# Convolutional Neural Networks (CNNs)"
      ]
    },
    {
      "cell_type": "markdown",
      "metadata": {
        "colab_type": "text",
        "id": "0lfZdD_cp1t5"
      },
      "source": [
        "# Assignment\n",
        "\n",
        "- <a href=\"#p1\">Part 1:</a> Pre-Trained Model\n",
        "- <a href=\"#p2\">Part 2:</a> Custom CNN Model\n",
        "- <a href=\"#p3\">Part 3:</a> CNN with Data Augmentation\n",
        "\n",
        "\n",
        "You will apply three different CNN models to a binary image classification model using Keras. Classify images of Mountains (`./data/train/mountain/*`) and images of forests (`./data/train/forest/*`). Treat mountains as the positive class (1) and the forest images as the negative (zero). \n",
        "\n",
        "|Mountain (+)|Forest (-)|\n",
        "|---|---|\n",
        "|![](https://github.com/LambdaSchool/DS-Unit-4-Sprint-3-Deep-Learning/blob/master/module2-convolutional-neural-networks/data/train/mountain/art1131.jpg?raw=1)|![](https://github.com/LambdaSchool/DS-Unit-4-Sprint-3-Deep-Learning/blob/master/module2-convolutional-neural-networks/data/validation/forest/cdmc317.jpg?raw=1)|\n",
        "\n",
        "The problem is relatively difficult given that the sample is tiny: there are about 350 observations per class. This sample size might be something that you can expect with prototyping an image classification problem/solution at work. Get accustomed to evaluating several different possible models."
      ]
    },
    {
      "cell_type": "markdown",
      "metadata": {
        "colab_type": "text",
        "id": "FdbyMyMd9m_e"
      },
      "source": [
        "# Pre - Trained Model\n",
        "<a id=\"p1\"></a>\n",
        "\n",
        "Load a pretrained network from Keras, [ResNet50](https://tfhub.dev/google/imagenet/resnet_v1_50/classification/1) - a 50 layer deep network trained to recognize [1000 objects](https://storage.googleapis.com/download.tensorflow.org/data/ImageNetLabels.txt). Starting usage:\n",
        "\n",
        "```python\n",
        "import numpy as np\n",
        "\n",
        "from tensorflow.keras.applications.resnet50 import ResNet50\n",
        "from tensorflow.keras.preprocessing import image\n",
        "from tensorflow.keras.applications.resnet50 import preprocess_input, decode_predictions\n",
        "\n",
        "from tensorflow.keras.layers import Dense, GlobalAveragePooling2D\n",
        "from tensorflow.keras.models import Model # This is the functional API\n",
        "\n",
        "resnet = ResNet50(weights='imagenet', include_top=False)\n",
        "\n",
        "```\n",
        "\n",
        "The `include_top` parameter in `ResNet50` will remove the full connected layers from the ResNet model. The next step is to turn off the training of the ResNet layers. We want to use the learned parameters without updating them in future training passes. \n",
        "\n",
        "```python\n",
        "for layer in resnet.layers:\n",
        "    layer.trainable = False\n",
        "```\n",
        "\n",
        "Using the Keras functional API, we will need to additional additional full connected layers to our model. We we removed the top layers, we removed all preivous fully connected layers. In other words, we kept only the feature processing portions of our network. You can expert with additional layers beyond what's listed here. The `GlobalAveragePooling2D` layer functions as a really fancy flatten function by taking the average of each of the last convolutional layer outputs (which is two dimensional still). \n",
        "\n",
        "```python\n",
        "x = resnet.output\n",
        "x = GlobalAveragePooling2D()(x) # This layer is a really fancy flatten\n",
        "x = Dense(1024, activation='relu')(x)\n",
        "predictions = Dense(1, activation='sigmoid')(x)\n",
        "model = Model(resnet.input, predictions)\n",
        "```\n",
        "\n",
        "Your assignment is to apply the transfer learning above to classify images of Mountains (`./data/train/mountain/*`) and images of forests (`./data/train/forest/*`). Treat mountains as the positive class (1) and the forest images as the negative (zero). \n",
        "\n",
        "Steps to complete assignment: \n",
        "1. Load in Image Data into numpy arrays (`X`) \n",
        "2. Create a `y` for the labels\n",
        "3. Train your model with pre-trained layers from resnet\n",
        "4. Report your model's accuracy"
      ]
    },
    {
      "cell_type": "markdown",
      "metadata": {
        "colab_type": "text",
        "id": "ChSUIMHl9m_f"
      },
      "source": [
        "## Load in Data\n",
        "\n",
        "This surprisingly more difficult than it seems, because you are working with directories of images instead of a single file. This boiler plate will help you download a zipped version of the directory of images. The directory is organized into \"train\" and \"validation\" which you can use inside an `ImageGenerator` class to stream batches of images thru your model.  \n"
      ]
    },
    {
      "cell_type": "markdown",
      "metadata": {
        "colab_type": "text",
        "id": "eJcdz-1n9m_g"
      },
      "source": [
        "### Download & Summarize the Data\n",
        "\n",
        "This step is completed for you. Just run the cells and review the results. "
      ]
    },
    {
      "cell_type": "code",
      "metadata": {
        "colab_type": "code",
        "id": "blFyK-W79m_i",
        "colab": {}
      },
      "source": [
        "import tensorflow as tf\n",
        "import os\n",
        "\n",
        "_URL = 'https://github.com/LambdaSchool/DS-Unit-4-Sprint-3-Deep-Learning/blob/master/module2-convolutional-neural-networks/data.zip?raw=true'\n",
        "\n",
        "path_to_zip = tf.keras.utils.get_file('./data.zip', origin=_URL, extract=True)\n",
        "PATH = os.path.join(os.path.dirname(path_to_zip), 'data')"
      ],
      "execution_count": 0,
      "outputs": []
    },
    {
      "cell_type": "code",
      "metadata": {
        "colab_type": "code",
        "id": "shfA3RNx9m_s",
        "colab": {}
      },
      "source": [
        "train_dir = os.path.join(PATH, 'train')\n",
        "validation_dir = os.path.join(PATH, 'validation')"
      ],
      "execution_count": 0,
      "outputs": []
    },
    {
      "cell_type": "code",
      "metadata": {
        "colab_type": "code",
        "id": "YMUT80uJ9m_y",
        "colab": {}
      },
      "source": [
        "train_mountain_dir = os.path.join(train_dir, 'mountain')  # directory with our training cat pictures\n",
        "train_forest_dir = os.path.join(train_dir, 'forest')  # directory with our training dog pictures\n",
        "validation_mountain_dir = os.path.join(validation_dir, 'mountain')  # directory with our validation cat pictures\n",
        "validation_forest_dir = os.path.join(validation_dir, 'forest')  # directory with our validation dog pictures"
      ],
      "execution_count": 0,
      "outputs": []
    },
    {
      "cell_type": "code",
      "metadata": {
        "colab_type": "code",
        "id": "uk-dALcb9m_3",
        "colab": {}
      },
      "source": [
        "num_mountain_tr = len(os.listdir(train_mountain_dir))\n",
        "num_forest_tr = len(os.listdir(train_forest_dir))\n",
        "\n",
        "num_mountain_val = len(os.listdir(validation_mountain_dir))\n",
        "num_forest_val = len(os.listdir(validation_forest_dir))\n",
        "\n",
        "total_train = num_mountain_tr + num_forest_tr\n",
        "total_val = num_mountain_val + num_forest_val"
      ],
      "execution_count": 0,
      "outputs": []
    },
    {
      "cell_type": "code",
      "metadata": {
        "colab_type": "code",
        "id": "qhFbBclC9m_8",
        "colab": {
          "base_uri": "https://localhost:8080/",
          "height": 139
        },
        "outputId": "02153633-1f67-4474-fd32-5c15d2d326f4"
      },
      "source": [
        "print('total training mountain images:', num_mountain_tr)\n",
        "print('total training forest images:', num_forest_tr)\n",
        "\n",
        "print('total validation mountain images:', num_mountain_val)\n",
        "print('total validation forest images:', num_forest_val)\n",
        "print(\"--\")\n",
        "print(\"Total training images:\", total_train)\n",
        "print(\"Total validation images:\", total_val)"
      ],
      "execution_count": 36,
      "outputs": [
        {
          "output_type": "stream",
          "text": [
            "total training mountain images: 254\n",
            "total training forest images: 270\n",
            "total validation mountain images: 125\n",
            "total validation forest images: 62\n",
            "--\n",
            "Total training images: 524\n",
            "Total validation images: 187\n"
          ],
          "name": "stdout"
        }
      ]
    },
    {
      "cell_type": "markdown",
      "metadata": {
        "colab_type": "text",
        "id": "HiBrSK-v9nAA"
      },
      "source": [
        "### Keras `ImageGenerator` to Process the Data\n",
        "\n",
        "This step is completed for you, but please review the code. The `ImageGenerator` class reads in batches of data from a directory and pass them to the model one batch at a time. Just like large text files, this method is advantageous, because it stifles the need to load a bunch of images into memory. \n",
        "\n",
        "Check out the documentation for this class method: [Keras `ImageGenerator` Class](https://keras.io/preprocessing/image/#imagedatagenerator-class). You'll expand it's use in the third assignment objective."
      ]
    },
    {
      "cell_type": "code",
      "metadata": {
        "colab_type": "code",
        "id": "IRTfvx3X9nAC",
        "colab": {}
      },
      "source": [
        "batch_size = 16\n",
        "epochs = 50\n",
        "IMG_HEIGHT = 224\n",
        "IMG_WIDTH = 224"
      ],
      "execution_count": 0,
      "outputs": []
    },
    {
      "cell_type": "code",
      "metadata": {
        "colab_type": "code",
        "id": "6qjdB-6N9nAK",
        "colab": {}
      },
      "source": [
        "from tensorflow.keras.preprocessing.image import ImageDataGenerator\n",
        "\n",
        "train_image_generator = ImageDataGenerator(rescale=1./255) # Generator for our training data\n",
        "validation_image_generator = ImageDataGenerator(rescale=1./255) # Generator for our validation data"
      ],
      "execution_count": 0,
      "outputs": []
    },
    {
      "cell_type": "code",
      "metadata": {
        "colab_type": "code",
        "id": "5LjZsiWY9nAO",
        "colab": {
          "base_uri": "https://localhost:8080/",
          "height": 34
        },
        "outputId": "52551b6a-8519-4acb-cf19-e4ef37c9261d"
      },
      "source": [
        "train_data_gen = train_image_generator.flow_from_directory(batch_size=batch_size,\n",
        "                                                           directory=train_dir,\n",
        "                                                           shuffle=True,\n",
        "                                                           target_size=(IMG_HEIGHT, IMG_WIDTH),\n",
        "                                                           class_mode='binary')"
      ],
      "execution_count": 39,
      "outputs": [
        {
          "output_type": "stream",
          "text": [
            "Found 533 images belonging to 2 classes.\n"
          ],
          "name": "stdout"
        }
      ]
    },
    {
      "cell_type": "code",
      "metadata": {
        "colab_type": "code",
        "id": "FuVfMZoc9nAS",
        "colab": {
          "base_uri": "https://localhost:8080/",
          "height": 34
        },
        "outputId": "4a3aef7c-c750-44b6-ed3f-d9bf7ece3e92"
      },
      "source": [
        "val_data_gen = validation_image_generator.flow_from_directory(batch_size=batch_size,\n",
        "                                                              directory=validation_dir,\n",
        "                                                              target_size=(IMG_HEIGHT, IMG_WIDTH),\n",
        "                                                              class_mode='binary')"
      ],
      "execution_count": 40,
      "outputs": [
        {
          "output_type": "stream",
          "text": [
            "Found 195 images belonging to 2 classes.\n"
          ],
          "name": "stdout"
        }
      ]
    },
    {
      "cell_type": "markdown",
      "metadata": {
        "colab_type": "text",
        "id": "UhxJiglD9nAW"
      },
      "source": [
        "## Instatiate Model"
      ]
    },
    {
      "cell_type": "code",
      "metadata": {
        "colab_type": "code",
        "id": "Tvd4QlPa9nAW",
        "colab": {}
      },
      "source": [
        "import numpy as np\n",
        "\n",
        "from tensorflow.keras.applications.resnet50 import ResNet50\n",
        "from tensorflow.keras.preprocessing import image\n",
        "from tensorflow.keras.applications.resnet50 import preprocess_input, decode_predictions\n",
        "\n",
        "from tensorflow.keras.layers import Dense, GlobalAveragePooling2D\n",
        "from tensorflow.keras.models import Model # This is the functional API\n",
        "\n",
        "resnet = ResNet50(weights='imagenet', include_top=False)"
      ],
      "execution_count": 0,
      "outputs": []
    },
    {
      "cell_type": "code",
      "metadata": {
        "id": "w8S8g2_cEGuJ",
        "colab_type": "code",
        "colab": {}
      },
      "source": [
        "for layer in resnet.layers:\n",
        "    layer.trainable = False"
      ],
      "execution_count": 0,
      "outputs": []
    },
    {
      "cell_type": "code",
      "metadata": {
        "id": "bbrhZbIwEGuO",
        "colab_type": "code",
        "colab": {}
      },
      "source": [
        "x = resnet.output\n",
        "x = GlobalAveragePooling2D()(x) # This layer is a really fancy flatten\n",
        "x = Dense(1024, activation='relu')(x)\n",
        "predictions = Dense(1, activation='sigmoid')(x)\n",
        "# API wrapper model\n",
        "model = Model(resnet.input, predictions)"
      ],
      "execution_count": 0,
      "outputs": []
    },
    {
      "cell_type": "code",
      "metadata": {
        "id": "lKi8g3ppEGuS",
        "colab_type": "code",
        "colab": {}
      },
      "source": [
        "# compile before fit\n",
        "model.compile(optimizer='adam',\n",
        "              loss='binary_crossentropy',\n",
        "              metrics=['accuracy'])"
      ],
      "execution_count": 0,
      "outputs": []
    },
    {
      "cell_type": "markdown",
      "metadata": {
        "colab_type": "text",
        "id": "sNPea2Ae9nAa"
      },
      "source": [
        "## Fit Model"
      ]
    },
    {
      "cell_type": "code",
      "metadata": {
        "id": "wB-JGgTUEGuX",
        "colab_type": "code",
        "colab": {
          "base_uri": "https://localhost:8080/",
          "height": 34
        },
        "outputId": "7bdd2b6f-35ca-4b00-fbf8-57e5bfdfc7f4"
      },
      "source": [
        "!pip install pillow"
      ],
      "execution_count": 45,
      "outputs": [
        {
          "output_type": "stream",
          "text": [
            "Requirement already satisfied: pillow in /usr/local/lib/python3.6/dist-packages (7.0.0)\n"
          ],
          "name": "stdout"
        }
      ]
    },
    {
      "cell_type": "code",
      "metadata": {
        "colab_type": "code",
        "id": "nAvdUHXG9nAb",
        "colab": {
          "base_uri": "https://localhost:8080/",
          "height": 1000
        },
        "outputId": "9c16bb6f-34c7-4bb5-a4a8-1436cde32730"
      },
      "source": [
        "history = model.fit(\n",
        "    train_data_gen,\n",
        "    steps_per_epoch=total_train // batch_size,\n",
        "    epochs=epochs,\n",
        "    validation_data=val_data_gen,\n",
        "    validation_steps=total_val // batch_size\n",
        ")"
      ],
      "execution_count": 46,
      "outputs": [
        {
          "output_type": "stream",
          "text": [
            "Epoch 1/50\n",
            "32/32 [==============================] - 3s 97ms/step - loss: 0.8117 - accuracy: 0.5230 - val_loss: 0.7603 - val_accuracy: 0.3920\n",
            "Epoch 2/50\n",
            "32/32 [==============================] - 2s 71ms/step - loss: 0.6052 - accuracy: 0.6587 - val_loss: 0.5379 - val_accuracy: 0.7727\n",
            "Epoch 3/50\n",
            "32/32 [==============================] - 2s 72ms/step - loss: 0.5291 - accuracy: 0.7525 - val_loss: 0.5557 - val_accuracy: 0.6761\n",
            "Epoch 4/50\n",
            "32/32 [==============================] - 2s 71ms/step - loss: 0.4978 - accuracy: 0.7565 - val_loss: 0.5243 - val_accuracy: 0.7898\n",
            "Epoch 5/50\n",
            "32/32 [==============================] - 2s 72ms/step - loss: 0.5020 - accuracy: 0.7645 - val_loss: 0.4234 - val_accuracy: 0.8466\n",
            "Epoch 6/50\n",
            "32/32 [==============================] - 2s 72ms/step - loss: 0.4369 - accuracy: 0.8084 - val_loss: 0.3821 - val_accuracy: 0.8693\n",
            "Epoch 7/50\n",
            "32/32 [==============================] - 2s 71ms/step - loss: 0.3823 - accuracy: 0.8503 - val_loss: 0.4171 - val_accuracy: 0.8352\n",
            "Epoch 8/50\n",
            "32/32 [==============================] - 2s 71ms/step - loss: 0.3437 - accuracy: 0.8984 - val_loss: 0.3520 - val_accuracy: 0.8580\n",
            "Epoch 9/50\n",
            "32/32 [==============================] - 2s 72ms/step - loss: 0.3520 - accuracy: 0.8523 - val_loss: 0.3147 - val_accuracy: 0.8864\n",
            "Epoch 10/50\n",
            "32/32 [==============================] - 2s 72ms/step - loss: 0.3195 - accuracy: 0.8842 - val_loss: 0.3998 - val_accuracy: 0.8295\n",
            "Epoch 11/50\n",
            "32/32 [==============================] - 2s 72ms/step - loss: 0.2879 - accuracy: 0.8882 - val_loss: 0.3292 - val_accuracy: 0.8977\n",
            "Epoch 12/50\n",
            "32/32 [==============================] - 2s 71ms/step - loss: 0.2851 - accuracy: 0.8942 - val_loss: 0.3927 - val_accuracy: 0.8239\n",
            "Epoch 13/50\n",
            "32/32 [==============================] - 2s 71ms/step - loss: 0.2569 - accuracy: 0.9162 - val_loss: 0.5082 - val_accuracy: 0.7727\n",
            "Epoch 14/50\n",
            "32/32 [==============================] - 2s 72ms/step - loss: 0.2513 - accuracy: 0.9082 - val_loss: 0.2714 - val_accuracy: 0.8750\n",
            "Epoch 15/50\n",
            "32/32 [==============================] - 2s 72ms/step - loss: 0.2889 - accuracy: 0.8842 - val_loss: 0.4582 - val_accuracy: 0.8182\n",
            "Epoch 16/50\n",
            "32/32 [==============================] - 2s 72ms/step - loss: 0.2087 - accuracy: 0.9238 - val_loss: 0.3376 - val_accuracy: 0.8523\n",
            "Epoch 17/50\n",
            "32/32 [==============================] - 2s 71ms/step - loss: 0.2200 - accuracy: 0.9122 - val_loss: 0.2343 - val_accuracy: 0.9375\n",
            "Epoch 18/50\n",
            "32/32 [==============================] - 2s 72ms/step - loss: 0.2309 - accuracy: 0.9162 - val_loss: 0.2328 - val_accuracy: 0.9205\n",
            "Epoch 19/50\n",
            "32/32 [==============================] - 2s 73ms/step - loss: 0.1771 - accuracy: 0.9421 - val_loss: 0.3590 - val_accuracy: 0.8580\n",
            "Epoch 20/50\n",
            "32/32 [==============================] - 2s 72ms/step - loss: 0.2071 - accuracy: 0.9222 - val_loss: 0.2438 - val_accuracy: 0.9148\n",
            "Epoch 21/50\n",
            "32/32 [==============================] - 2s 72ms/step - loss: 0.1575 - accuracy: 0.9501 - val_loss: 0.2128 - val_accuracy: 0.9261\n",
            "Epoch 22/50\n",
            "32/32 [==============================] - 2s 74ms/step - loss: 0.1563 - accuracy: 0.9581 - val_loss: 0.2688 - val_accuracy: 0.8920\n",
            "Epoch 23/50\n",
            "32/32 [==============================] - 2s 72ms/step - loss: 0.1677 - accuracy: 0.9421 - val_loss: 0.4646 - val_accuracy: 0.8068\n",
            "Epoch 24/50\n",
            "32/32 [==============================] - 2s 72ms/step - loss: 0.2195 - accuracy: 0.9122 - val_loss: 0.2736 - val_accuracy: 0.8864\n",
            "Epoch 25/50\n",
            "32/32 [==============================] - 2s 71ms/step - loss: 0.2119 - accuracy: 0.9082 - val_loss: 0.2389 - val_accuracy: 0.9261\n",
            "Epoch 26/50\n",
            "32/32 [==============================] - 2s 72ms/step - loss: 0.1401 - accuracy: 0.9441 - val_loss: 0.2898 - val_accuracy: 0.8807\n",
            "Epoch 27/50\n",
            "32/32 [==============================] - 2s 71ms/step - loss: 0.1247 - accuracy: 0.9601 - val_loss: 0.1767 - val_accuracy: 0.9545\n",
            "Epoch 28/50\n",
            "32/32 [==============================] - 2s 71ms/step - loss: 0.1146 - accuracy: 0.9648 - val_loss: 0.3197 - val_accuracy: 0.8693\n",
            "Epoch 29/50\n",
            "32/32 [==============================] - 2s 71ms/step - loss: 0.1355 - accuracy: 0.9581 - val_loss: 0.1904 - val_accuracy: 0.9318\n",
            "Epoch 30/50\n",
            "32/32 [==============================] - 2s 72ms/step - loss: 0.1080 - accuracy: 0.9621 - val_loss: 0.2643 - val_accuracy: 0.9034\n",
            "Epoch 31/50\n",
            "32/32 [==============================] - 2s 73ms/step - loss: 0.1827 - accuracy: 0.9222 - val_loss: 0.5570 - val_accuracy: 0.7614\n",
            "Epoch 32/50\n",
            "32/32 [==============================] - 2s 72ms/step - loss: 0.2066 - accuracy: 0.9222 - val_loss: 0.4824 - val_accuracy: 0.8068\n",
            "Epoch 33/50\n",
            "32/32 [==============================] - 2s 71ms/step - loss: 0.2890 - accuracy: 0.8882 - val_loss: 0.2754 - val_accuracy: 0.8977\n",
            "Epoch 34/50\n",
            "32/32 [==============================] - 2s 71ms/step - loss: 0.1729 - accuracy: 0.9341 - val_loss: 0.2075 - val_accuracy: 0.9375\n",
            "Epoch 35/50\n",
            "32/32 [==============================] - 2s 71ms/step - loss: 0.1208 - accuracy: 0.9501 - val_loss: 0.2408 - val_accuracy: 0.9148\n",
            "Epoch 36/50\n",
            "32/32 [==============================] - 2s 71ms/step - loss: 0.3198 - accuracy: 0.8723 - val_loss: 0.3552 - val_accuracy: 0.8182\n",
            "Epoch 37/50\n",
            "32/32 [==============================] - 2s 71ms/step - loss: 0.2639 - accuracy: 0.8802 - val_loss: 0.2477 - val_accuracy: 0.8920\n",
            "Epoch 38/50\n",
            "32/32 [==============================] - 2s 71ms/step - loss: 0.1636 - accuracy: 0.9301 - val_loss: 0.1874 - val_accuracy: 0.9432\n",
            "Epoch 39/50\n",
            "32/32 [==============================] - 2s 72ms/step - loss: 0.1273 - accuracy: 0.9481 - val_loss: 0.4642 - val_accuracy: 0.8239\n",
            "Epoch 40/50\n",
            "32/32 [==============================] - 2s 72ms/step - loss: 0.1241 - accuracy: 0.9581 - val_loss: 0.2062 - val_accuracy: 0.9375\n",
            "Epoch 41/50\n",
            "32/32 [==============================] - 2s 71ms/step - loss: 0.0954 - accuracy: 0.9780 - val_loss: 0.2043 - val_accuracy: 0.9091\n",
            "Epoch 42/50\n",
            "32/32 [==============================] - 2s 72ms/step - loss: 0.1252 - accuracy: 0.9541 - val_loss: 0.1972 - val_accuracy: 0.9432\n",
            "Epoch 43/50\n",
            "32/32 [==============================] - 2s 71ms/step - loss: 0.1264 - accuracy: 0.9401 - val_loss: 0.1859 - val_accuracy: 0.9545\n",
            "Epoch 44/50\n",
            "32/32 [==============================] - 2s 73ms/step - loss: 0.0925 - accuracy: 0.9641 - val_loss: 0.1529 - val_accuracy: 0.9602\n",
            "Epoch 45/50\n",
            "32/32 [==============================] - 2s 72ms/step - loss: 0.0822 - accuracy: 0.9661 - val_loss: 0.1898 - val_accuracy: 0.9375\n",
            "Epoch 46/50\n",
            "32/32 [==============================] - 2s 72ms/step - loss: 0.0776 - accuracy: 0.9760 - val_loss: 0.2722 - val_accuracy: 0.9148\n",
            "Epoch 47/50\n",
            "32/32 [==============================] - 2s 72ms/step - loss: 0.1583 - accuracy: 0.9281 - val_loss: 0.1914 - val_accuracy: 0.9432\n",
            "Epoch 48/50\n",
            "32/32 [==============================] - 2s 72ms/step - loss: 0.1349 - accuracy: 0.9381 - val_loss: 0.2192 - val_accuracy: 0.9261\n",
            "Epoch 49/50\n",
            "32/32 [==============================] - 2s 71ms/step - loss: 0.0717 - accuracy: 0.9741 - val_loss: 0.1982 - val_accuracy: 0.9375\n",
            "Epoch 50/50\n",
            "32/32 [==============================] - 2s 71ms/step - loss: 0.0905 - accuracy: 0.9681 - val_loss: 0.2403 - val_accuracy: 0.9034\n"
          ],
          "name": "stdout"
        }
      ]
    },
    {
      "cell_type": "markdown",
      "metadata": {
        "colab_type": "text",
        "id": "aRM1gGs49nAg"
      },
      "source": [
        "# Custom CNN Model\n",
        "\n",
        "In this step, write and train your own convolutional neural network using Keras. You can use any architecture that suits you as long as it has at least one convolutional and one pooling layer at the beginning of the network - you can add more if you want. "
      ]
    },
    {
      "cell_type": "code",
      "metadata": {
        "id": "6Hmmif9kE3LF",
        "colab_type": "code",
        "colab": {}
      },
      "source": [
        "from tensorflow.keras.models import Sequential, Model \n",
        "from tensorflow.keras.layers import Dense, Conv2D, MaxPooling2D, Flatten, Dropout"
      ],
      "execution_count": 0,
      "outputs": []
    },
    {
      "cell_type": "code",
      "metadata": {
        "id": "qlhF2i7DFnuU",
        "colab_type": "code",
        "colab": {
          "base_uri": "https://localhost:8080/",
          "height": 34
        },
        "outputId": "85620acc-94be-4861-e226-d8c237ea21fd"
      },
      "source": [
        "train_data_gen.image_shape"
      ],
      "execution_count": 48,
      "outputs": [
        {
          "output_type": "execute_result",
          "data": {
            "text/plain": [
              "(224, 224, 3)"
            ]
          },
          "metadata": {
            "tags": []
          },
          "execution_count": 48
        }
      ]
    },
    {
      "cell_type": "code",
      "metadata": {
        "colab_type": "code",
        "id": "TCOyc97R9nAi",
        "colab": {
          "base_uri": "https://localhost:8080/",
          "height": 399
        },
        "outputId": "51cffe54-678a-47d2-be9c-c987dbd390cf"
      },
      "source": [
        "# Define the Model\n",
        "cnn_model = Sequential()\n",
        "# colvolutional layer\n",
        "cnn_model.add(Conv2D(32, (3, 3), activation='relu', input_shape=(224, 224, 3)))\n",
        "# pooling layer\n",
        "cnn_model.add(MaxPooling2D((2,2)))\n",
        "cnn_model.add(Conv2D(64, (3, 3), activation='relu'))\n",
        "cnn_model.add(MaxPooling2D((2,2)))\n",
        "\n",
        "cnn_model.add(GlobalAveragePooling2D()) # flatten\n",
        "cnn_model.add(Dense(64, activation='relu'))\n",
        "cnn_model.add(Dense(1, activation='sigmoid'))\n",
        "\n",
        "cnn_model.summary()"
      ],
      "execution_count": 49,
      "outputs": [
        {
          "output_type": "stream",
          "text": [
            "Model: \"sequential_2\"\n",
            "_________________________________________________________________\n",
            "Layer (type)                 Output Shape              Param #   \n",
            "=================================================================\n",
            "conv2d_3 (Conv2D)            (None, 222, 222, 32)      896       \n",
            "_________________________________________________________________\n",
            "max_pooling2d_2 (MaxPooling2 (None, 111, 111, 32)      0         \n",
            "_________________________________________________________________\n",
            "conv2d_4 (Conv2D)            (None, 109, 109, 64)      18496     \n",
            "_________________________________________________________________\n",
            "max_pooling2d_3 (MaxPooling2 (None, 54, 54, 64)        0         \n",
            "_________________________________________________________________\n",
            "global_average_pooling2d_3 ( (None, 64)                0         \n",
            "_________________________________________________________________\n",
            "dense_6 (Dense)              (None, 64)                4160      \n",
            "_________________________________________________________________\n",
            "dense_7 (Dense)              (None, 1)                 65        \n",
            "=================================================================\n",
            "Total params: 23,617\n",
            "Trainable params: 23,617\n",
            "Non-trainable params: 0\n",
            "_________________________________________________________________\n"
          ],
          "name": "stdout"
        }
      ]
    },
    {
      "cell_type": "code",
      "metadata": {
        "colab_type": "code",
        "id": "c9Hykh989nAl",
        "colab": {}
      },
      "source": [
        "# Compile Model\n",
        "cnn_model.compile(optimizer='nadam',\n",
        "              loss='binary_crossentropy',\n",
        "              metrics=['accuracy'])"
      ],
      "execution_count": 0,
      "outputs": []
    },
    {
      "cell_type": "code",
      "metadata": {
        "colab_type": "code",
        "id": "TX5ZaS9X9nAo",
        "colab": {
          "base_uri": "https://localhost:8080/",
          "height": 1000
        },
        "outputId": "beb54992-4ce9-4c20-8754-e907a73566cc"
      },
      "source": [
        "# Fit Model\n",
        "cnn_model.fit(\n",
        "    train_data_gen,\n",
        "    steps_per_epoch=total_train // batch_size,\n",
        "    epochs=epochs,\n",
        "    validation_data=val_data_gen,\n",
        "    validation_steps=total_val // batch_size\n",
        ")\n",
        "#nadam > adam"
      ],
      "execution_count": 51,
      "outputs": [
        {
          "output_type": "stream",
          "text": [
            "Epoch 1/50\n",
            "32/32 [==============================] - 3s 104ms/step - loss: 0.1646 - accuracy: 0.9341 - val_loss: 0.1633 - val_accuracy: 0.9489\n",
            "Epoch 2/50\n",
            "32/32 [==============================] - 2s 71ms/step - loss: 0.0876 - accuracy: 0.9741 - val_loss: 0.2145 - val_accuracy: 0.9318\n",
            "Epoch 3/50\n",
            "32/32 [==============================] - 2s 70ms/step - loss: 0.2625 - accuracy: 0.9162 - val_loss: 1.0867 - val_accuracy: 0.6193\n",
            "Epoch 4/50\n",
            "32/32 [==============================] - 2s 71ms/step - loss: 0.1244 - accuracy: 0.9473 - val_loss: 0.1941 - val_accuracy: 0.9375\n",
            "Epoch 5/50\n",
            "32/32 [==============================] - 2s 72ms/step - loss: 0.1325 - accuracy: 0.9501 - val_loss: 0.1527 - val_accuracy: 0.9489\n",
            "Epoch 6/50\n",
            "32/32 [==============================] - 2s 71ms/step - loss: 0.1503 - accuracy: 0.9421 - val_loss: 0.2021 - val_accuracy: 0.9205\n",
            "Epoch 7/50\n",
            "32/32 [==============================] - 2s 71ms/step - loss: 0.0865 - accuracy: 0.9701 - val_loss: 0.2778 - val_accuracy: 0.9034\n",
            "Epoch 8/50\n",
            "32/32 [==============================] - 2s 69ms/step - loss: 0.0878 - accuracy: 0.9681 - val_loss: 0.4997 - val_accuracy: 0.8239\n",
            "Epoch 9/50\n",
            "32/32 [==============================] - 2s 70ms/step - loss: 0.2092 - accuracy: 0.9461 - val_loss: 0.4725 - val_accuracy: 0.8068\n",
            "Epoch 10/50\n",
            "32/32 [==============================] - 2s 69ms/step - loss: 0.1302 - accuracy: 0.9621 - val_loss: 0.2949 - val_accuracy: 0.8920\n",
            "Epoch 11/50\n",
            "32/32 [==============================] - 2s 70ms/step - loss: 0.1450 - accuracy: 0.9401 - val_loss: 0.2890 - val_accuracy: 0.8693\n",
            "Epoch 12/50\n",
            "32/32 [==============================] - 2s 70ms/step - loss: 0.2431 - accuracy: 0.9082 - val_loss: 0.2438 - val_accuracy: 0.9148\n",
            "Epoch 13/50\n",
            "32/32 [==============================] - 2s 70ms/step - loss: 0.1026 - accuracy: 0.9661 - val_loss: 0.2581 - val_accuracy: 0.8864\n",
            "Epoch 14/50\n",
            "32/32 [==============================] - 2s 70ms/step - loss: 0.1190 - accuracy: 0.9481 - val_loss: 0.1919 - val_accuracy: 0.9489\n",
            "Epoch 15/50\n",
            "32/32 [==============================] - 2s 69ms/step - loss: 0.0812 - accuracy: 0.9661 - val_loss: 0.2690 - val_accuracy: 0.9148\n",
            "Epoch 16/50\n",
            "32/32 [==============================] - 2s 71ms/step - loss: 0.1498 - accuracy: 0.9453 - val_loss: 0.2591 - val_accuracy: 0.8864\n",
            "Epoch 17/50\n",
            "32/32 [==============================] - 2s 70ms/step - loss: 0.0616 - accuracy: 0.9820 - val_loss: 0.2501 - val_accuracy: 0.9148\n",
            "Epoch 18/50\n",
            "32/32 [==============================] - 2s 71ms/step - loss: 0.1074 - accuracy: 0.9521 - val_loss: 0.2293 - val_accuracy: 0.9375\n",
            "Epoch 19/50\n",
            "32/32 [==============================] - 2s 70ms/step - loss: 0.0831 - accuracy: 0.9741 - val_loss: 0.1947 - val_accuracy: 0.9318\n",
            "Epoch 20/50\n",
            "32/32 [==============================] - 2s 69ms/step - loss: 0.0629 - accuracy: 0.9840 - val_loss: 0.1896 - val_accuracy: 0.9545\n",
            "Epoch 21/50\n",
            "32/32 [==============================] - 2s 68ms/step - loss: 0.2055 - accuracy: 0.9361 - val_loss: 0.1747 - val_accuracy: 0.9489\n",
            "Epoch 22/50\n",
            "32/32 [==============================] - 2s 70ms/step - loss: 0.1007 - accuracy: 0.9601 - val_loss: 0.6293 - val_accuracy: 0.8011\n",
            "Epoch 23/50\n",
            "32/32 [==============================] - 2s 69ms/step - loss: 0.1506 - accuracy: 0.9381 - val_loss: 0.1648 - val_accuracy: 0.9545\n",
            "Epoch 24/50\n",
            "32/32 [==============================] - 2s 69ms/step - loss: 0.0680 - accuracy: 0.9800 - val_loss: 0.1835 - val_accuracy: 0.9432\n",
            "Epoch 25/50\n",
            "32/32 [==============================] - 2s 69ms/step - loss: 0.0920 - accuracy: 0.9641 - val_loss: 0.4625 - val_accuracy: 0.8409\n",
            "Epoch 26/50\n",
            "32/32 [==============================] - 2s 68ms/step - loss: 0.0659 - accuracy: 0.9721 - val_loss: 0.2106 - val_accuracy: 0.9375\n",
            "Epoch 27/50\n",
            "32/32 [==============================] - 2s 70ms/step - loss: 0.0570 - accuracy: 0.9840 - val_loss: 0.2435 - val_accuracy: 0.9261\n",
            "Epoch 28/50\n",
            "32/32 [==============================] - 2s 69ms/step - loss: 0.0610 - accuracy: 0.9820 - val_loss: 0.2337 - val_accuracy: 0.9375\n",
            "Epoch 29/50\n",
            "32/32 [==============================] - 2s 69ms/step - loss: 0.1369 - accuracy: 0.9541 - val_loss: 0.2026 - val_accuracy: 0.9432\n",
            "Epoch 30/50\n",
            "32/32 [==============================] - 2s 69ms/step - loss: 0.0691 - accuracy: 0.9721 - val_loss: 0.1952 - val_accuracy: 0.9489\n",
            "Epoch 31/50\n",
            "32/32 [==============================] - 2s 68ms/step - loss: 0.1108 - accuracy: 0.9581 - val_loss: 0.2630 - val_accuracy: 0.9205\n",
            "Epoch 32/50\n",
            "32/32 [==============================] - 2s 67ms/step - loss: 0.0801 - accuracy: 0.9760 - val_loss: 0.2892 - val_accuracy: 0.9091\n",
            "Epoch 33/50\n",
            "32/32 [==============================] - 2s 68ms/step - loss: 0.0579 - accuracy: 0.9785 - val_loss: 0.4275 - val_accuracy: 0.8523\n",
            "Epoch 34/50\n",
            "32/32 [==============================] - 2s 67ms/step - loss: 0.2023 - accuracy: 0.9341 - val_loss: 0.3039 - val_accuracy: 0.8864\n",
            "Epoch 35/50\n",
            "32/32 [==============================] - 2s 67ms/step - loss: 0.0898 - accuracy: 0.9780 - val_loss: 0.2363 - val_accuracy: 0.9261\n",
            "Epoch 36/50\n",
            "32/32 [==============================] - 2s 69ms/step - loss: 0.1830 - accuracy: 0.9414 - val_loss: 0.1570 - val_accuracy: 0.9489\n",
            "Epoch 37/50\n",
            "32/32 [==============================] - 2s 68ms/step - loss: 0.0676 - accuracy: 0.9681 - val_loss: 0.5380 - val_accuracy: 0.8125\n",
            "Epoch 38/50\n",
            "32/32 [==============================] - 2s 68ms/step - loss: 0.0756 - accuracy: 0.9780 - val_loss: 0.3971 - val_accuracy: 0.8693\n",
            "Epoch 39/50\n",
            "32/32 [==============================] - 2s 68ms/step - loss: 0.0421 - accuracy: 0.9880 - val_loss: 0.2012 - val_accuracy: 0.9318\n",
            "Epoch 40/50\n",
            "32/32 [==============================] - 2s 68ms/step - loss: 0.0421 - accuracy: 0.9880 - val_loss: 0.2386 - val_accuracy: 0.9318\n",
            "Epoch 41/50\n",
            "32/32 [==============================] - 2s 67ms/step - loss: 0.1171 - accuracy: 0.9541 - val_loss: 0.6003 - val_accuracy: 0.8068\n",
            "Epoch 42/50\n",
            "32/32 [==============================] - 2s 67ms/step - loss: 0.0664 - accuracy: 0.9701 - val_loss: 0.2518 - val_accuracy: 0.9091\n",
            "Epoch 43/50\n",
            "32/32 [==============================] - 2s 69ms/step - loss: 0.0696 - accuracy: 0.9741 - val_loss: 0.1942 - val_accuracy: 0.9318\n",
            "Epoch 44/50\n",
            "32/32 [==============================] - 2s 69ms/step - loss: 0.2319 - accuracy: 0.9242 - val_loss: 0.7049 - val_accuracy: 0.6477\n",
            "Epoch 45/50\n",
            "32/32 [==============================] - 2s 68ms/step - loss: 0.1450 - accuracy: 0.9621 - val_loss: 0.3945 - val_accuracy: 0.8239\n",
            "Epoch 46/50\n",
            "32/32 [==============================] - 2s 67ms/step - loss: 0.1067 - accuracy: 0.9561 - val_loss: 0.2439 - val_accuracy: 0.9091\n",
            "Epoch 47/50\n",
            "32/32 [==============================] - 2s 69ms/step - loss: 0.2316 - accuracy: 0.9301 - val_loss: 0.2818 - val_accuracy: 0.8864\n",
            "Epoch 48/50\n",
            "32/32 [==============================] - 2s 68ms/step - loss: 0.0897 - accuracy: 0.9800 - val_loss: 0.1669 - val_accuracy: 0.9432\n",
            "Epoch 49/50\n",
            "32/32 [==============================] - 2s 70ms/step - loss: 0.1166 - accuracy: 0.9541 - val_loss: 1.3750 - val_accuracy: 0.5852\n",
            "Epoch 50/50\n",
            "32/32 [==============================] - 2s 68ms/step - loss: 0.1481 - accuracy: 0.9541 - val_loss: 0.2598 - val_accuracy: 0.9091\n"
          ],
          "name": "stdout"
        },
        {
          "output_type": "execute_result",
          "data": {
            "text/plain": [
              "<tensorflow.python.keras.callbacks.History at 0x7f38b1f56cc0>"
            ]
          },
          "metadata": {
            "tags": []
          },
          "execution_count": 51
        }
      ]
    },
    {
      "cell_type": "code",
      "metadata": {
        "id": "oW2CerhhYaH_",
        "colab_type": "code",
        "colab": {}
      },
      "source": [
        ""
      ],
      "execution_count": 0,
      "outputs": []
    },
    {
      "cell_type": "markdown",
      "metadata": {
        "colab_type": "text",
        "id": "j-qNlkFI9nAs"
      },
      "source": [
        "# Custom CNN Model with Image Manipulations\n",
        "\n",
        "To simulate an increase in a sample of image, you can apply image manipulation techniques: cropping, rotation, stretching, etc. Luckily Keras has some handy functions for us to apply these techniques to our mountain and forest example. Simply, you should be able to modify our image generator for the problem. Check out these resources to help you get started: \n",
        "\n",
        "1. [Keras `ImageGenerator` Class](https://keras.io/preprocessing/image/#imagedatagenerator-class)\n",
        "2. [Building a powerful image classifier with very little data](https://blog.keras.io/building-powerful-image-classification-models-using-very-little-data.html)\n",
        " "
      ]
    },
    {
      "cell_type": "code",
      "metadata": {
        "colab_type": "code",
        "id": "vFZcd0kp9nAs",
        "colab": {}
      },
      "source": [
        "from keras.preprocessing.image import ImageDataGenerator"
      ],
      "execution_count": 0,
      "outputs": []
    },
    {
      "cell_type": "code",
      "metadata": {
        "id": "n9BmQ0cqXnG6",
        "colab_type": "code",
        "colab": {}
      },
      "source": [
        "# image randomization generator\n",
        "gen_image_train = ImageDataGenerator(\n",
        "                    featurewise_center=True,\n",
        "                    featurewise_std_normalization=True,\n",
        "                    horizontal_flip=True,\n",
        "                    rotation_range=45,\n",
        "                    width_shift_range=0.1,\n",
        "                    height_shift_range=0.1,\n",
        "                    zoom_range=0.2)\n",
        "\n",
        "gen_image_val =  ImageDataGenerator(\n",
        "                    featurewise_center=True,\n",
        "                    featurewise_std_normalization=True,\n",
        "                    horizontal_flip=True,\n",
        "                    rotation_range=45,\n",
        "                    width_shift_range=0.1,\n",
        "                    height_shift_range=0.1,\n",
        "                    zoom_range=0.2)"
      ],
      "execution_count": 0,
      "outputs": []
    },
    {
      "cell_type": "code",
      "metadata": {
        "id": "hLk3S4_6XnQg",
        "colab_type": "code",
        "colab": {
          "base_uri": "https://localhost:8080/",
          "height": 52
        },
        "outputId": "c0d8f4a0-d058-441c-f5a9-b8253bc0cffa"
      },
      "source": [
        "# combine\n",
        "train_data_gen = gen_image_train.flow_from_directory(batch_size=batch_size,\n",
        "                                                           directory=train_dir,\n",
        "                                                           shuffle=True,\n",
        "                                                           target_size=(IMG_HEIGHT, IMG_WIDTH),\n",
        "                                                           class_mode='binary')\n",
        "val_data_gen = gen_image_val.flow_from_directory(batch_size=batch_size,\n",
        "                                                              directory=validation_dir,\n",
        "                                                              target_size=(IMG_HEIGHT, IMG_WIDTH),\n",
        "                                                              class_mode='binary')"
      ],
      "execution_count": 54,
      "outputs": [
        {
          "output_type": "stream",
          "text": [
            "Found 533 images belonging to 2 classes.\n",
            "Found 195 images belonging to 2 classes.\n"
          ],
          "name": "stdout"
        }
      ]
    },
    {
      "cell_type": "code",
      "metadata": {
        "id": "dK_wiaRRXnTv",
        "colab_type": "code",
        "colab": {
          "base_uri": "https://localhost:8080/",
          "height": 434
        },
        "outputId": "8d18bccd-67a9-4f08-e570-8a64a10865e6"
      },
      "source": [
        "icnn_model = Sequential()\n",
        "icnn_model.add(Conv2D(32, (3, 3), activation='relu', input_shape=(IMG_HEIGHT, IMG_WIDTH ,3)))\n",
        "icnn_model.add(MaxPooling2D((2,2)))\n",
        "icnn_model.add(Conv2D(64, (3, 3), activation='relu'))\n",
        "icnn_model.add(MaxPooling2D((2,2)))\n",
        "icnn_model.add(Conv2D(64, (1, 1), activation='relu'))\n",
        "\n",
        "icnn_model.add(GlobalAveragePooling2D())\n",
        "icnn_model.add(Dense(64, activation='relu'))\n",
        "icnn_model.add(Dense(1, activation='sigmoid'))\n",
        "\n",
        "icnn_model.summary()"
      ],
      "execution_count": 56,
      "outputs": [
        {
          "output_type": "stream",
          "text": [
            "Model: \"sequential_4\"\n",
            "_________________________________________________________________\n",
            "Layer (type)                 Output Shape              Param #   \n",
            "=================================================================\n",
            "conv2d_6 (Conv2D)            (None, 222, 222, 32)      896       \n",
            "_________________________________________________________________\n",
            "max_pooling2d_4 (MaxPooling2 (None, 111, 111, 32)      0         \n",
            "_________________________________________________________________\n",
            "conv2d_7 (Conv2D)            (None, 109, 109, 64)      18496     \n",
            "_________________________________________________________________\n",
            "max_pooling2d_5 (MaxPooling2 (None, 54, 54, 64)        0         \n",
            "_________________________________________________________________\n",
            "conv2d_8 (Conv2D)            (None, 54, 54, 64)        4160      \n",
            "_________________________________________________________________\n",
            "global_average_pooling2d_4 ( (None, 64)                0         \n",
            "_________________________________________________________________\n",
            "dense_8 (Dense)              (None, 64)                4160      \n",
            "_________________________________________________________________\n",
            "dense_9 (Dense)              (None, 1)                 65        \n",
            "=================================================================\n",
            "Total params: 27,777\n",
            "Trainable params: 27,777\n",
            "Non-trainable params: 0\n",
            "_________________________________________________________________\n"
          ],
          "name": "stdout"
        }
      ]
    },
    {
      "cell_type": "code",
      "metadata": {
        "id": "3ApvOIYGhROO",
        "colab_type": "code",
        "colab": {}
      },
      "source": [
        "icnn_model.compile(optimizer='nadam',\n",
        "              loss=\"binary_crossentropy\",\n",
        "              metrics=['accuracy'])"
      ],
      "execution_count": 0,
      "outputs": []
    },
    {
      "cell_type": "code",
      "metadata": {
        "id": "vwGzQP10hrJW",
        "colab_type": "code",
        "colab": {
          "base_uri": "https://localhost:8080/",
          "height": 1000
        },
        "outputId": "9e3cb7f1-248b-40df-8216-f74e79d743bb"
      },
      "source": [
        "icnn_model.fit(\n",
        "    train_data_gen,\n",
        "    steps_per_epoch=total_train // batch_size,\n",
        "    epochs=epochs,\n",
        "    validation_data=val_data_gen,\n",
        "    validation_steps=total_val // batch_size\n",
        ")"
      ],
      "execution_count": 58,
      "outputs": [
        {
          "output_type": "stream",
          "text": [
            "/usr/local/lib/python3.6/dist-packages/keras_preprocessing/image/image_data_generator.py:720: UserWarning: This ImageDataGenerator specifies `featurewise_center`, but it hasn't been fit on any training data. Fit it first by calling `.fit(numpy_data)`.\n",
            "  warnings.warn('This ImageDataGenerator specifies '\n",
            "/usr/local/lib/python3.6/dist-packages/keras_preprocessing/image/image_data_generator.py:728: UserWarning: This ImageDataGenerator specifies `featurewise_std_normalization`, but it hasn't been fit on any training data. Fit it first by calling `.fit(numpy_data)`.\n",
            "  warnings.warn('This ImageDataGenerator specifies '\n"
          ],
          "name": "stderr"
        },
        {
          "output_type": "stream",
          "text": [
            "Epoch 1/50\n",
            "32/32 [==============================] - 9s 272ms/step - loss: 0.7828 - accuracy: 0.7852 - val_loss: 0.2655 - val_accuracy: 0.8693\n",
            "Epoch 2/50\n",
            "32/32 [==============================] - 9s 270ms/step - loss: 0.3940 - accuracy: 0.8535 - val_loss: 0.2283 - val_accuracy: 0.8864\n",
            "Epoch 3/50\n",
            "32/32 [==============================] - 9s 266ms/step - loss: 0.2387 - accuracy: 0.8982 - val_loss: 0.2129 - val_accuracy: 0.9091\n",
            "Epoch 4/50\n",
            "32/32 [==============================] - 9s 267ms/step - loss: 0.2672 - accuracy: 0.9062 - val_loss: 0.1997 - val_accuracy: 0.9318\n",
            "Epoch 5/50\n",
            "32/32 [==============================] - 8s 265ms/step - loss: 0.2322 - accuracy: 0.9162 - val_loss: 0.2465 - val_accuracy: 0.9091\n",
            "Epoch 6/50\n",
            "32/32 [==============================] - 9s 266ms/step - loss: 0.2087 - accuracy: 0.9102 - val_loss: 0.2139 - val_accuracy: 0.8750\n",
            "Epoch 7/50\n",
            "32/32 [==============================] - 9s 268ms/step - loss: 0.2607 - accuracy: 0.9022 - val_loss: 0.2246 - val_accuracy: 0.9091\n",
            "Epoch 8/50\n",
            "32/32 [==============================] - 8s 265ms/step - loss: 0.1843 - accuracy: 0.9102 - val_loss: 0.1658 - val_accuracy: 0.9432\n",
            "Epoch 9/50\n",
            "32/32 [==============================] - 8s 262ms/step - loss: 0.2264 - accuracy: 0.9122 - val_loss: 0.2184 - val_accuracy: 0.9091\n",
            "Epoch 10/50\n",
            "32/32 [==============================] - 8s 262ms/step - loss: 0.1988 - accuracy: 0.9202 - val_loss: 0.2968 - val_accuracy: 0.8864\n",
            "Epoch 11/50\n",
            "32/32 [==============================] - 8s 261ms/step - loss: 0.2340 - accuracy: 0.8962 - val_loss: 0.3599 - val_accuracy: 0.8409\n",
            "Epoch 12/50\n",
            "32/32 [==============================] - 8s 261ms/step - loss: 0.1759 - accuracy: 0.9341 - val_loss: 0.2815 - val_accuracy: 0.8807\n",
            "Epoch 13/50\n",
            "32/32 [==============================] - 8s 261ms/step - loss: 0.1768 - accuracy: 0.9281 - val_loss: 0.1818 - val_accuracy: 0.9432\n",
            "Epoch 14/50\n",
            "32/32 [==============================] - 8s 260ms/step - loss: 0.1912 - accuracy: 0.9281 - val_loss: 0.1885 - val_accuracy: 0.9205\n",
            "Epoch 15/50\n",
            "32/32 [==============================] - 8s 261ms/step - loss: 0.1747 - accuracy: 0.9242 - val_loss: 0.1836 - val_accuracy: 0.9205\n",
            "Epoch 16/50\n",
            "32/32 [==============================] - 8s 262ms/step - loss: 0.1732 - accuracy: 0.9355 - val_loss: 0.2513 - val_accuracy: 0.9261\n",
            "Epoch 17/50\n",
            "32/32 [==============================] - 8s 260ms/step - loss: 0.1507 - accuracy: 0.9361 - val_loss: 0.2091 - val_accuracy: 0.9205\n",
            "Epoch 18/50\n",
            "32/32 [==============================] - 8s 258ms/step - loss: 0.1621 - accuracy: 0.9421 - val_loss: 0.1244 - val_accuracy: 0.9375\n",
            "Epoch 19/50\n",
            "32/32 [==============================] - 8s 255ms/step - loss: 0.1386 - accuracy: 0.9461 - val_loss: 0.2077 - val_accuracy: 0.9148\n",
            "Epoch 20/50\n",
            "32/32 [==============================] - 8s 258ms/step - loss: 0.1925 - accuracy: 0.9182 - val_loss: 0.1956 - val_accuracy: 0.9205\n",
            "Epoch 21/50\n",
            "32/32 [==============================] - 8s 264ms/step - loss: 0.1585 - accuracy: 0.9453 - val_loss: 0.1698 - val_accuracy: 0.9432\n",
            "Epoch 22/50\n",
            "32/32 [==============================] - 8s 255ms/step - loss: 0.1457 - accuracy: 0.9381 - val_loss: 0.1709 - val_accuracy: 0.9318\n",
            "Epoch 23/50\n",
            "32/32 [==============================] - 8s 259ms/step - loss: 0.1477 - accuracy: 0.9501 - val_loss: 0.1549 - val_accuracy: 0.9261\n",
            "Epoch 24/50\n",
            "32/32 [==============================] - 8s 255ms/step - loss: 0.1395 - accuracy: 0.9441 - val_loss: 0.1460 - val_accuracy: 0.9375\n",
            "Epoch 25/50\n",
            "32/32 [==============================] - 8s 257ms/step - loss: 0.1306 - accuracy: 0.9521 - val_loss: 0.1435 - val_accuracy: 0.9432\n",
            "Epoch 26/50\n",
            "32/32 [==============================] - 8s 259ms/step - loss: 0.1383 - accuracy: 0.9581 - val_loss: 0.1954 - val_accuracy: 0.9034\n",
            "Epoch 27/50\n",
            "32/32 [==============================] - 8s 255ms/step - loss: 0.1373 - accuracy: 0.9441 - val_loss: 0.1565 - val_accuracy: 0.9375\n",
            "Epoch 28/50\n",
            "32/32 [==============================] - 8s 254ms/step - loss: 0.1225 - accuracy: 0.9501 - val_loss: 0.1946 - val_accuracy: 0.9318\n",
            "Epoch 29/50\n",
            "32/32 [==============================] - 8s 254ms/step - loss: 0.1372 - accuracy: 0.9461 - val_loss: 0.1765 - val_accuracy: 0.9261\n",
            "Epoch 30/50\n",
            "32/32 [==============================] - 8s 254ms/step - loss: 0.1255 - accuracy: 0.9512 - val_loss: 0.1371 - val_accuracy: 0.9318\n",
            "Epoch 31/50\n",
            "32/32 [==============================] - 8s 253ms/step - loss: 0.1209 - accuracy: 0.9561 - val_loss: 0.1776 - val_accuracy: 0.9432\n",
            "Epoch 32/50\n",
            "32/32 [==============================] - 8s 256ms/step - loss: 0.1318 - accuracy: 0.9481 - val_loss: 0.1336 - val_accuracy: 0.9432\n",
            "Epoch 33/50\n",
            "32/32 [==============================] - 8s 255ms/step - loss: 0.1347 - accuracy: 0.9381 - val_loss: 0.2042 - val_accuracy: 0.9318\n",
            "Epoch 34/50\n",
            "32/32 [==============================] - 8s 253ms/step - loss: 0.0927 - accuracy: 0.9621 - val_loss: 0.1528 - val_accuracy: 0.9545\n",
            "Epoch 35/50\n",
            "32/32 [==============================] - 8s 257ms/step - loss: 0.1349 - accuracy: 0.9414 - val_loss: 0.3500 - val_accuracy: 0.8636\n",
            "Epoch 36/50\n",
            "32/32 [==============================] - 8s 259ms/step - loss: 0.1150 - accuracy: 0.9561 - val_loss: 0.1888 - val_accuracy: 0.9318\n",
            "Epoch 37/50\n",
            "32/32 [==============================] - 8s 255ms/step - loss: 0.1412 - accuracy: 0.9441 - val_loss: 0.1347 - val_accuracy: 0.9432\n",
            "Epoch 38/50\n",
            "32/32 [==============================] - 8s 254ms/step - loss: 0.1109 - accuracy: 0.9621 - val_loss: 0.0929 - val_accuracy: 0.9602\n",
            "Epoch 39/50\n",
            "32/32 [==============================] - 8s 253ms/step - loss: 0.1102 - accuracy: 0.9621 - val_loss: 0.1234 - val_accuracy: 0.9545\n",
            "Epoch 40/50\n",
            "32/32 [==============================] - 8s 253ms/step - loss: 0.1530 - accuracy: 0.9381 - val_loss: 0.1534 - val_accuracy: 0.9318\n",
            "Epoch 41/50\n",
            "32/32 [==============================] - 8s 257ms/step - loss: 0.1023 - accuracy: 0.9512 - val_loss: 0.1333 - val_accuracy: 0.9489\n",
            "Epoch 42/50\n",
            "32/32 [==============================] - 8s 255ms/step - loss: 0.1221 - accuracy: 0.9561 - val_loss: 0.1077 - val_accuracy: 0.9489\n",
            "Epoch 43/50\n",
            "32/32 [==============================] - 8s 253ms/step - loss: 0.1017 - accuracy: 0.9581 - val_loss: 0.2133 - val_accuracy: 0.9148\n",
            "Epoch 44/50\n",
            "32/32 [==============================] - 8s 255ms/step - loss: 0.1185 - accuracy: 0.9521 - val_loss: 0.1588 - val_accuracy: 0.9318\n",
            "Epoch 45/50\n",
            "32/32 [==============================] - 8s 257ms/step - loss: 0.1001 - accuracy: 0.9681 - val_loss: 0.1009 - val_accuracy: 0.9602\n",
            "Epoch 46/50\n",
            "32/32 [==============================] - 8s 252ms/step - loss: 0.1184 - accuracy: 0.9521 - val_loss: 0.1122 - val_accuracy: 0.9375\n",
            "Epoch 47/50\n",
            "32/32 [==============================] - 8s 254ms/step - loss: 0.0908 - accuracy: 0.9668 - val_loss: 0.1285 - val_accuracy: 0.9432\n",
            "Epoch 48/50\n",
            "32/32 [==============================] - 8s 251ms/step - loss: 0.1177 - accuracy: 0.9501 - val_loss: 0.1700 - val_accuracy: 0.9432\n",
            "Epoch 49/50\n",
            "32/32 [==============================] - 8s 251ms/step - loss: 0.0957 - accuracy: 0.9661 - val_loss: 0.1428 - val_accuracy: 0.9375\n",
            "Epoch 50/50\n",
            "32/32 [==============================] - 8s 251ms/step - loss: 0.0806 - accuracy: 0.9601 - val_loss: 0.1348 - val_accuracy: 0.9318\n"
          ],
          "name": "stdout"
        },
        {
          "output_type": "execute_result",
          "data": {
            "text/plain": [
              "<tensorflow.python.keras.callbacks.History at 0x7f38b00b49e8>"
            ]
          },
          "metadata": {
            "tags": []
          },
          "execution_count": 58
        }
      ]
    },
    {
      "cell_type": "markdown",
      "metadata": {
        "colab_type": "text",
        "id": "uT3UV3gap9H6"
      },
      "source": [
        "# Resources and Stretch Goals\n",
        "\n",
        "Stretch goals\n",
        "- Enhance your code to use classes/functions and accept terms to search and classes to look for in recognizing the downloaded images (e.g. download images of parties, recognize all that contain balloons)\n",
        "- Check out [other available pretrained networks](https://tfhub.dev), try some and compare\n",
        "- Image recognition/classification is somewhat solved, but *relationships* between entities and describing an image is not - check out some of the extended resources (e.g. [Visual Genome](https://visualgenome.org/)) on the topic\n",
        "- Transfer learning - using images you source yourself, [retrain a classifier](https://www.tensorflow.org/hub/tutorials/image_retraining) with a new category\n",
        "- (Not CNN related) Use [piexif](https://pypi.org/project/piexif/) to check out the metadata of images passed in to your system - see if they're from a national park! (Note - many images lack GPS metadata, so this won't work in most cases, but still cool)\n",
        "\n",
        "Resources\n",
        "- [Deep Residual Learning for Image Recognition](https://arxiv.org/abs/1512.03385) - influential paper (introduced ResNet)\n",
        "- [YOLO: Real-Time Object Detection](https://pjreddie.com/darknet/yolo/) - an influential convolution based object detection system, focused on inference speed (for applications to e.g. self driving vehicles)\n",
        "- [R-CNN, Fast R-CNN, Faster R-CNN, YOLO](https://towardsdatascience.com/r-cnn-fast-r-cnn-faster-r-cnn-yolo-object-detection-algorithms-36d53571365e) - comparison of object detection systems\n",
        "- [Common Objects in Context](http://cocodataset.org/) - a large-scale object detection, segmentation, and captioning dataset\n",
        "- [Visual Genome](https://visualgenome.org/) - a dataset, a knowledge base, an ongoing effort to connect structured image concepts to language"
      ]
    }
  ]
}